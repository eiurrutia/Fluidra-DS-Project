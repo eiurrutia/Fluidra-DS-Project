{
 "cells": [
  {
   "attachments": {},
   "cell_type": "markdown",
   "metadata": {},
   "source": [
    "# Importación de Librerías"
   ]
  },
  {
   "cell_type": "code",
   "execution_count": null,
   "metadata": {},
   "outputs": [],
   "source": [
    "import sys\n",
    "import os\n",
    "sys.path.append(\".\")\n",
    "import pandas as pd\n",
    "import numpy as np\n",
    "import pandasql as ps\n",
    "from datetime import timedelta\n",
    "from matplotlib.ticker import FuncFormatter\n",
    "import matplotlib.pyplot as plt\n",
    "import seaborn as sns\n",
    "\n",
    "color_pal = sns.color_palette()\n",
    "plt.style.use('fivethirtyeight')\n",
    "pd.set_option('display.max_columns', None)\n",
    "def thousands_formatter_func(x, pos):\n",
    "    return f'{int(x / 1e3)}K'\n",
    "thousand_formatter = FuncFormatter(thousands_formatter_func)\n",
    "def percentage_formatter_func(x, pos):\n",
    "    return f'{int(x * 100)}%'\n",
    "percentage_formatter = FuncFormatter(percentage_formatter_func)"
   ]
  },
  {
   "attachments": {},
   "cell_type": "markdown",
   "metadata": {},
   "source": [
    "# Lectura de archivos"
   ]
  },
  {
   "attachments": {},
   "cell_type": "markdown",
   "metadata": {},
   "source": [
    "## Lectura Dataset de Bombas"
   ]
  },
  {
   "cell_type": "code",
   "execution_count": null,
   "metadata": {},
   "outputs": [],
   "source": [
    "df_bombs = pd.read_csv('data/csv/Dataset_Bombes_2020-23.csv', delimiter=';', encoding='latin-1',  dtype={'T_Diff [s]': 'object'})\n",
    "df_bombs['dhIni'] = pd.to_datetime(df_bombs['dhIni'], format='%Y-%m-%d %H:%M:%S.%f')\n",
    "df_bombs['dhFin'] = pd.to_datetime(df_bombs['dhFin'], format='%Y-%m-%d %H:%M:%S.%f')\n",
    "df_bombs['T_Diff [s]'] = df_bombs['T_Diff [s]'].fillna('0').str.replace('.', '').replace(',', '.').astype(int)\n",
    "df_bombs['TiempoTeorico [min]'] = df_bombs['TiempoTeorico [min]'].fillna('0').str.replace('.', '').str.replace(',', '.').astype(float)\n",
    "df_bombs['Orden'] = df_bombs['Orden'].fillna(0).astype(int)\n",
    "df_bombs['OperIds'] = df_bombs['OperIds'].fillna('')\n",
    "\n",
    "df_bombs.rename(columns={\n",
    "    'Orden': 'order',\n",
    "    'CodMaterial': 'bomb_type',\n",
    "    'DescMaterial': 'bomb_description',\n",
    "    'maquina_dsc': 'line',\n",
    "    'QtyPlan': 'plan_qty',\n",
    "    'QtyBuenas_Total': 'total_good_qty',\n",
    "    'QtyMalas_Total': 'total_bad_qty',\n",
    "    'CantidadBuenas': 'good_qty',\n",
    "    'CantidadMalas': 'bad_qty',\n",
    "    'dhIni': 'start_date',\n",
    "    'dhFin': 'end_date',\n",
    "    'T_Diff [s]': 'theorical_diff',\n",
    "    'IncidName': 'incidence_name',\n",
    "    'Observaciones': 'observations',\n",
    "    'TiempoTeorico [min]': 'theorical_time',\n",
    "    'OperariosEnMaq': 'operators_qty',\n",
    "    'OperIds': 'operators_ids'    \n",
    "}, inplace=True)\n",
    "\n",
    "print(df_bombs.shape)\n",
    "df_bombs.head()"
   ]
  },
  {
   "attachments": {},
   "cell_type": "markdown",
   "metadata": {},
   "source": [
    "## Lectura Dataset Defectuosas Interna"
   ]
  },
  {
   "cell_type": "code",
   "execution_count": null,
   "metadata": {},
   "outputs": [],
   "source": [
    "df_defective = pd.read_csv('data/csv/Defectuositat_Interna_2020-23.csv', delimiter=';', encoding='latin-1')[:-3]\n",
    "df_defective['Jornada'] = pd.to_datetime(df_defective['Jornada'], format='%d-%m-%y')\n",
    "print(df_defective.shape)\n",
    "print(df_defective.dtypes)\n",
    "df_defective.head()\n"
   ]
  },
  {
   "attachments": {},
   "cell_type": "markdown",
   "metadata": {},
   "source": [
    "## Información Relevante de Bombas"
   ]
  },
  {
   "cell_type": "code",
   "execution_count": null,
   "metadata": {},
   "outputs": [],
   "source": [
    "df_bombs.describe()"
   ]
  },
  {
   "cell_type": "code",
   "execution_count": null,
   "metadata": {},
   "outputs": [],
   "source": [
    "df_exp = df_bombs.operators_ids.str.split(',', expand=True).stack().reset_index(level=1, drop=True).to_frame('operators_ids')"
   ]
  },
  {
   "cell_type": "code",
   "execution_count": null,
   "metadata": {},
   "outputs": [],
   "source": [
    "print(f\"\"\"Resumen información relevante sobre el Dataset de bombas:\n",
    "--> Cantidad de Órdenes de fabicación: {df_bombs.order.nunique()}\n",
    "--> Cantidad de distintos materiales: {df_bombs.bomb_type.nunique()}\n",
    "--> Cantidad de lineas/máquinas: {df_bombs.line.nunique()}\n",
    "--> Cantidad máxima registrada de operarios en máquinas: {df_bombs.operators_qty.max()}\n",
    "--> Cantidad de operarios distintos que trabajan en la planta: {df_exp.operators_ids.nunique()}\n",
    "\n",
    "--> Fecha más antigua de registros: {df_bombs.start_date.min()}\n",
    "--> Fecha más nueva de registros: {df_bombs.end_date.max()}    \n",
    "\"\"\")"
   ]
  },
  {
   "attachments": {},
   "cell_type": "markdown",
   "metadata": {},
   "source": [
    "### Revisión de casos Diff cero"
   ]
  },
  {
   "cell_type": "code",
   "execution_count": null,
   "metadata": {},
   "outputs": [],
   "source": [
    "print(df_bombs[df_bombs.theorical_diff < 0].order.unique())\n",
    "df_bombs[df_bombs.theorical_diff < 0].order.nunique()"
   ]
  },
  {
   "cell_type": "code",
   "execution_count": null,
   "metadata": {},
   "outputs": [],
   "source": [
    "df_bombs[df_bombs.order == 5263472]"
   ]
  },
  {
   "cell_type": "code",
   "execution_count": null,
   "metadata": {},
   "outputs": [],
   "source": [
    "df_bombs[(df_bombs.theorical_diff < 0) & (df_bombs.good_qty != 0)].order.nunique()"
   ]
  },
  {
   "attachments": {},
   "cell_type": "markdown",
   "metadata": {},
   "source": [
    "Conclusión: eliminar la OF que contengan registros?"
   ]
  },
  {
   "attachments": {},
   "cell_type": "markdown",
   "metadata": {},
   "source": [
    "## Generación cantidad teórica calculada por registro"
   ]
  },
  {
   "attachments": {},
   "cell_type": "markdown",
   "metadata": {},
   "source": [
    "Creamos nuestra propias columnas calculadas: <br>\n",
    "* Cantidad de trabajadores por registro según los ids asociados.\n",
    "* Diferencia en segundos de tiempo de inicio con tiempo de fin de registro\n",
    "* Diferencia en minutos de tiempo de inicio con tiempo de fin de registro\n",
    "* Total de *minutos-hombre* trabajados en el registro ${duración de registo en minutos \\times cantidad de operarios en el registro}$"
   ]
  },
  {
   "cell_type": "code",
   "execution_count": null,
   "metadata": {},
   "outputs": [],
   "source": [
    "df_bombs['operators_qty_calculated'] = df_bombs.operators_ids.apply(lambda x: len(list(filter(lambda s: s != \"\", x.split(',')))))\n",
    "df_bombs['time_diff_seconds_calculated'] = (df_bombs['end_date'] - df_bombs['start_date']) / pd.Timedelta(seconds=1)\n",
    "df_bombs['time_diff_minutes_calculated'] = (df_bombs['end_date'] - df_bombs['start_date']) / pd.Timedelta(minutes=1)\n",
    "\n",
    "df_bombs['total_operators_minutes'] = df_bombs['operators_qty_calculated'] * df_bombs['time_diff_minutes_calculated']\n",
    "\n",
    "df_bombs"
   ]
  },
  {
   "attachments": {},
   "cell_type": "markdown",
   "metadata": {},
   "source": [
    "## Agrupación por Orden de fabricación"
   ]
  },
  {
   "cell_type": "code",
   "execution_count": null,
   "metadata": {},
   "outputs": [],
   "source": [
    "df_bombs_grouped = df_bombs.groupby(\n",
    "        ['order', 'bomb_type', 'line']\n",
    "    ).agg(\n",
    "        plan_qty=('plan_qty', 'max'),\n",
    "        total_good_qty=('total_good_qty', 'max'),\n",
    "        total_bad_qty=('total_bad_qty', 'max'),\n",
    "        good_qty=('good_qty', 'sum'),\n",
    "        bad_qty=('bad_qty', 'sum'),\n",
    "        start_date=('start_date', 'min'),\n",
    "        end_date=('end_date', 'max'),\n",
    "        theorical_diff=('theorical_diff', 'sum'),\n",
    "        theorical_time=('theorical_time', 'max'),\n",
    "        time_diff_seconds_calculated=('time_diff_seconds_calculated', 'sum'),\n",
    "        time_diff_minutes_calculated=('time_diff_minutes_calculated', 'sum'),\n",
    "        total_operators_minutes=('total_operators_minutes', 'sum'),\n",
    "        operators_distinct_ids=('operators_ids', lambda x: list(set([i for s in x if isinstance(s, str) for i in s.split(',') if i]))),\n",
    "        registers_qty=('start_date', 'count'),\n",
    "        operators_each_registers_qty=('operators_qty_calculated', 'mean'),\n",
    "    ).reset_index()\n",
    "df_bombs_grouped['operators_distinct_qty'] = df_bombs_grouped.operators_distinct_ids.apply(lambda x: len(x))\n",
    "df_bombs_grouped['theorical_qty'] = df_bombs_grouped.total_operators_minutes/df_bombs_grouped.theorical_time\n",
    "df_bombs_grouped['theorical_qty_round'] = df_bombs_grouped.theorical_qty.round(0)\n",
    "df_bombs_grouped['performance'] = df_bombs_grouped.good_qty/df_bombs_grouped.theorical_qty\n",
    "df_bombs_grouped['performance_round'] = df_bombs_grouped.good_qty/df_bombs_grouped.theorical_qty_round\n",
    "df_bombs_grouped"
   ]
  },
  {
   "cell_type": "code",
   "execution_count": null,
   "metadata": {},
   "outputs": [],
   "source": [
    "df_bombs_grouped.describe()"
   ]
  },
  {
   "cell_type": "code",
   "execution_count": null,
   "metadata": {},
   "outputs": [],
   "source": [
    "df_bombs_grouped.operators_each_registers_qty = df_bombs_grouped.operators_each_registers_qty.round(0)\n",
    "df_bombs_grouped['total_theorical_time'] = df_bombs_grouped.operators_each_registers_qty*df_bombs_grouped.theorical_time\n",
    "df_bombs_grouped"
   ]
  },
  {
   "cell_type": "code",
   "execution_count": null,
   "metadata": {},
   "outputs": [],
   "source": [
    "data = df_bombs_grouped[df_bombs_grouped.good_qty < 3000]\n",
    "plt.scatter(data.operators_each_registers_qty, data.good_qty, alpha=1)\n",
    "plt.title('Relación entre cantidad de operadores a trabajar y cantidad a elaborar en la OF')\n",
    "plt.xlabel('Media operador por registro en cada OF')\n",
    "plt.ylabel('Cantidad a elaborar de OF')\n",
    "plt.show()"
   ]
  },
  {
   "cell_type": "code",
   "execution_count": null,
   "metadata": {},
   "outputs": [],
   "source": [
    "data = df_bombs_grouped[df_bombs_grouped.good_qty < 3000]\n",
    "plt.scatter(data.operators_each_registers_qty, data.total_theorical_time, alpha=1)\n",
    "plt.title('Relación entre cantidad de operadores a trabajar y cantidad a elaborar en la OF')\n",
    "plt.xlabel('Media operador por registro en cada OF')\n",
    "plt.ylabel('Cantidad a elaborar de OF')\n",
    "plt.show()"
   ]
  },
  {
   "cell_type": "code",
   "execution_count": null,
   "metadata": {},
   "outputs": [],
   "source": [
    "df_of = df_bombs_grouped.copy()"
   ]
  },
  {
   "attachments": {},
   "cell_type": "markdown",
   "metadata": {},
   "source": [
    "Más información relevante:"
   ]
  },
  {
   "cell_type": "code",
   "execution_count": null,
   "metadata": {},
   "outputs": [],
   "source": [
    "print(f'''\n",
    "    | Cantidad total órdenes de fabricación: {df_of.shape[0]}\n",
    "    | Cantidad de órdenes de fabricación con diferencia en cantidad buenas reportadas versus la suma de sus registros: {df_of[df_of.total_good_qty != df_of.good_qty].shape[0]}\n",
    "        -> Casos CantidadBuenas > QtyBuenas_total : {df_of[df_of.total_good_qty < df_of.good_qty].shape[0]}  \n",
    "        -> Casos CantidadBuenas < QtyBuenas_total : {df_of[df_of.total_good_qty > df_of.good_qty].shape[0]} \n",
    "    \n",
    "    | Cantidad máxima de operadores trabajando en una misma OF: {df_of.operators_distinct_qty.max()}\n",
    "    \n",
    "    | Cantidad de órdenes con Qtyplan distintos a cantidad teórica calculada: {df_of[df_of.plan_qty != df_of.theorical_qty_round].shape[0]}\n",
    "    \n",
    "    | Duración máxima (minutos) de un registro: {df_bombs.time_diff_minutes_calculated.max()}\n",
    "''')"
   ]
  },
  {
   "attachments": {},
   "cell_type": "markdown",
   "metadata": {},
   "source": [
    "Revisión de cantidad de OF operadas por línea:"
   ]
  },
  {
   "cell_type": "code",
   "execution_count": null,
   "metadata": {},
   "outputs": [],
   "source": [
    "df_of.groupby('line').size().reset_index(name='count').sort_values(by='count', ascending=False)"
   ]
  },
  {
   "attachments": {},
   "cell_type": "markdown",
   "metadata": {},
   "source": [
    "Revisión de cantidad de tipos de bombas operadas por máquina:"
   ]
  },
  {
   "cell_type": "code",
   "execution_count": null,
   "metadata": {},
   "outputs": [],
   "source": [
    "df_bombs.bomb_type.nunique()"
   ]
  },
  {
   "cell_type": "code",
   "execution_count": null,
   "metadata": {},
   "outputs": [],
   "source": [
    "df_of.groupby(['line', 'bomb_type']).size().reset_index().groupby(['line']).size().reset_index(name='count').sort_values(by='count', ascending=False)"
   ]
  },
  {
   "attachments": {},
   "cell_type": "markdown",
   "metadata": {},
   "source": [
    "Revisión de líneas por bomba:"
   ]
  },
  {
   "cell_type": "code",
   "execution_count": null,
   "metadata": {},
   "outputs": [],
   "source": [
    "df_grouped = df_of.groupby(['line', 'bomb_type']).size().reset_index().groupby(['bomb_type']).size().reset_index(name='lines_count').sort_values(by='lines_count', ascending=False)\n",
    "print(df_grouped[df_grouped.lines_count >= 2].shape[0])\n",
    "df_grouped[df_grouped.lines_count >= 2]"
   ]
  },
  {
   "attachments": {},
   "cell_type": "markdown",
   "metadata": {},
   "source": [
    "Revisión de tipos de bomba por orden de fabricación"
   ]
  },
  {
   "cell_type": "code",
   "execution_count": null,
   "metadata": {},
   "outputs": [],
   "source": [
    "df_grouped = df_of.groupby(['order', 'bomb_type']).size().reset_index().groupby(['order']).size().reset_index(name='count').sort_values(by='count', ascending=False)\n",
    "df_grouped[df_grouped['count'] > 1]"
   ]
  },
  {
   "attachments": {},
   "cell_type": "markdown",
   "metadata": {},
   "source": [
    ">Nota: órdenes de fabricación hace alusión a un único tipo de bomba"
   ]
  },
  {
   "attachments": {},
   "cell_type": "markdown",
   "metadata": {},
   "source": [
    "## Limpieza"
   ]
  },
  {
   "attachments": {},
   "cell_type": "markdown",
   "metadata": {},
   "source": [
    "Eliminación de OF con tiempos negativos (confirmar con cliente)"
   ]
  },
  {
   "cell_type": "code",
   "execution_count": null,
   "metadata": {},
   "outputs": [],
   "source": [
    "negative_of = df_bombs[df_bombs.time_diff_minutes_calculated < 0].order.unique()\n",
    "negative_of.shape[0]\n"
   ]
  },
  {
   "cell_type": "code",
   "execution_count": null,
   "metadata": {},
   "outputs": [],
   "source": [
    "df_of = df_of[~df_of.order.isin(negative_of)]\n",
    "df_bombs = df_bombs[~df_bombs.order.isin(negative_of)]"
   ]
  },
  {
   "attachments": {},
   "cell_type": "markdown",
   "metadata": {},
   "source": [
    "Revisión de performance de OFs"
   ]
  },
  {
   "cell_type": "code",
   "execution_count": null,
   "metadata": {},
   "outputs": [],
   "source": [
    "print(f'''Total OFs: {df_of.shape[0]}\n",
    "OFs con performance mayor a 100%: {df_of[df_of.performance > 1.0].shape[0]} | {round(df_of[df_of.performance > 1.0].shape[0]/df_of.shape[0]*100)}% del total\n",
    "OFs con performance mayor a 110%: {df_of[df_of.performance > 1.1].shape[0]} | {round(df_of[df_of.performance > 1.1].shape[0]/df_of.shape[0]*100)}% del total\n",
    "OFs con performance mayor a 120%: {df_of[df_of.performance > 1.2].shape[0]} | {round(df_of[df_of.performance > 1.2].shape[0]/df_of.shape[0]*100)}% del total\n",
    "OFs con performance mayor a 150%: {df_of[df_of.performance > 1.5].shape[0]} | {round(df_of[df_of.performance > 1.5].shape[0]/df_of.shape[0]*100)}% del total\n",
    "''')"
   ]
  },
  {
   "attachments": {},
   "cell_type": "markdown",
   "metadata": {},
   "source": [
    "Eliminación de OF con performance > 120% (confirmar con cliente)"
   ]
  },
  {
   "cell_type": "code",
   "execution_count": null,
   "metadata": {},
   "outputs": [],
   "source": [
    "over_performance_of = df_of[df_of.performance > 1.2].order.unique()\n",
    "over_performance_of.shape[0]"
   ]
  },
  {
   "cell_type": "code",
   "execution_count": null,
   "metadata": {},
   "outputs": [],
   "source": [
    "df_of = df_of[~df_of.order.isin(over_performance_of)]\n",
    "df_bombs = df_bombs[~df_bombs.order.isin(over_performance_of)]"
   ]
  },
  {
   "attachments": {},
   "cell_type": "markdown",
   "metadata": {},
   "source": [
    "Eliminación de órdenes de fabricación en distintas líneas"
   ]
  },
  {
   "cell_type": "code",
   "execution_count": null,
   "metadata": {},
   "outputs": [],
   "source": [
    "df_grouped = df_of.groupby(['order', 'line']).size().reset_index().groupby(['order']).size().reset_index(name='count').sort_values(by='count', ascending=False)\n",
    "multiple_lines_of = df_grouped[df_grouped['count'] > 1].order.unique()\n",
    "multiple_lines_of.shape[0]"
   ]
  },
  {
   "cell_type": "code",
   "execution_count": null,
   "metadata": {},
   "outputs": [],
   "source": [
    "df_of = df_of[~df_of.order.isin(multiple_lines_of)]\n",
    "df_bombs = df_bombs[~df_bombs.order.isin(multiple_lines_of)]"
   ]
  },
  {
   "attachments": {},
   "cell_type": "markdown",
   "metadata": {},
   "source": [
    "# EDA"
   ]
  },
  {
   "attachments": {},
   "cell_type": "markdown",
   "metadata": {},
   "source": [
    "## Exploración de Dataset de bombas"
   ]
  },
  {
   "attachments": {},
   "cell_type": "markdown",
   "metadata": {},
   "source": [
    "### Exploración de valores por columnas"
   ]
  },
  {
   "cell_type": "code",
   "execution_count": null,
   "metadata": {},
   "outputs": [],
   "source": [
    "df_bombs.head()"
   ]
  },
  {
   "attachments": {},
   "cell_type": "markdown",
   "metadata": {},
   "source": [
    "Revisión de cantidad de valores distintos por columna"
   ]
  },
  {
   "cell_type": "code",
   "execution_count": null,
   "metadata": {},
   "outputs": [],
   "source": [
    "results = []\n",
    "for col in df_bombs.columns:\n",
    "    results.append([col, len(df_bombs[col].unique())])\n",
    "pd.DataFrame(results, columns=['Column', 'Distinct Values'])"
   ]
  },
  {
   "attachments": {},
   "cell_type": "markdown",
   "metadata": {},
   "source": [
    "Revisión de tipos de incidencias registrados:"
   ]
  },
  {
   "cell_type": "code",
   "execution_count": null,
   "metadata": {},
   "outputs": [],
   "source": [
    "df_bombs.groupby(['incidence_name']).size().reset_index(name='count')"
   ]
  },
  {
   "attachments": {},
   "cell_type": "markdown",
   "metadata": {},
   "source": [
    "> Nota: existen registros que tiene incidencia nula. Por lo observado esto se debe a que la observación de ciertos registros abarca más de una celda en el excel. A validar con el cliente qué hacer con estos casos"
   ]
  },
  {
   "attachments": {},
   "cell_type": "markdown",
   "metadata": {},
   "source": [
    "### Exploración de desempeño general por máquina"
   ]
  },
  {
   "cell_type": "code",
   "execution_count": null,
   "metadata": {},
   "outputs": [],
   "source": [
    "df_bombs.groupby(['line']).agg(good_qty=('good_qty', 'sum'), bad_qty=('bad_qty', 'sum'))\n"
   ]
  },
  {
   "cell_type": "code",
   "execution_count": null,
   "metadata": {},
   "outputs": [],
   "source": [
    "df_bombs_grouped = df_of.groupby(['line']).agg(theorical_qty=('theorical_qty', 'sum'), theorical_qty_round=('theorical_qty_round', 'sum'), good_qty=('good_qty', 'sum'))\n",
    "df_bombs_grouped['success_percentage'] = (df_bombs_grouped.good_qty / df_bombs_grouped.theorical_qty *100).round(2) \n",
    "df_bombs_grouped['success_percentage_round'] = (df_bombs_grouped.good_qty / df_bombs_grouped.theorical_qty_round *100).round(2)\n",
    "df_bombs_grouped"
   ]
  },
  {
   "attachments": {},
   "cell_type": "markdown",
   "metadata": {},
   "source": [
    "### Gráficas de interés\n"
   ]
  },
  {
   "attachments": {},
   "cell_type": "markdown",
   "metadata": {},
   "source": [
    "#### ¿Cuál es el rango de fechas en el dataset? ¿Existen periodos de inactividad notables en la producción?"
   ]
  },
  {
   "cell_type": "code",
   "execution_count": null,
   "metadata": {},
   "outputs": [],
   "source": [
    "def plot_daily_production(df, title):\n",
    "    data_daily = df.resample('D', on='start_date').sum()\n",
    "    plt.figure(figsize=(10, 5))\n",
    "    plt.plot(data_daily.index, data_daily['good_qty'])\n",
    "    plt.xlabel('Fecha')\n",
    "    plt.ylabel('Cantidad de producción')\n",
    "    plt.title(title)\n",
    "    plt.show()\n",
    "    "
   ]
  },
  {
   "attachments": {},
   "cell_type": "markdown",
   "metadata": {},
   "source": [
    ">Gráfico 1: Series temporales de producción a lo largo del tiempo (por día)"
   ]
  },
  {
   "cell_type": "code",
   "execution_count": null,
   "metadata": {},
   "outputs": [],
   "source": [
    "plot_daily_production(df_bombs, 'Producción diaria empresa a lo largo tiempo')"
   ]
  },
  {
   "attachments": {},
   "cell_type": "markdown",
   "metadata": {},
   "source": [
    ">Gráfico 2: Series temporales de producción a lo largo del tiempo (por día) para el año 2020"
   ]
  },
  {
   "cell_type": "code",
   "execution_count": null,
   "metadata": {},
   "outputs": [],
   "source": [
    "year = 2020\n",
    "plot_daily_production(df_bombs[df_bombs.start_date.dt.year == year], f'Producción diaria empresa en el año {year}')"
   ]
  },
  {
   "attachments": {},
   "cell_type": "markdown",
   "metadata": {},
   "source": [
    ">Gráfico 3: Comparación producción mensual por año"
   ]
  },
  {
   "cell_type": "code",
   "execution_count": null,
   "metadata": {},
   "outputs": [],
   "source": [
    "data = df_bombs.copy()\n",
    "# Crear una columna solo con el mes y el día\n",
    "data['month'] = data.end_date.dt.strftime('%m')\n",
    "\n",
    "# Agrupar por año, mes y día, y calcular la cantidad de producción diaria\n",
    "data_daily = data.groupby([data.end_date.dt.year, 'month'])['good_qty'].sum().reset_index()\n",
    "data_daily.columns = ['year', 'month', 'good_qty']\n",
    "\n",
    "# Función para formatear las etiquetas del eje y\n",
    "def thousands_formatter(x, pos):\n",
    "    return f'{int(x / 1e3)}K'\n",
    "\n",
    "# Crear el gráfico\n",
    "plt.figure(figsize=(12, 6))\n",
    "\n",
    "# Obtener los años únicos\n",
    "unique_years = data_daily['year'].unique()\n",
    "\n",
    "# Colors\n",
    "color_pal = sns.color_palette(['steelblue', 'seagreen', 'gray', 'gold', 'magenta', 'yellow'])\n",
    "\n",
    "for i, year in enumerate(unique_years):\n",
    "    yearly_data = data_daily[data_daily['year'] == year]\n",
    "    plt.plot(yearly_data['month'], yearly_data['good_qty'], label=str(int(year)), color=color_pal[i])\n",
    "\n",
    "plt.xlabel('Fecha (Mes)')\n",
    "plt.ylabel('Cantidad de producción')\n",
    "plt.title('Producción mensual por año')\n",
    "\n",
    "# Aplicar el formateador al eje y\n",
    "formatter = FuncFormatter(thousands_formatter)\n",
    "plt.gca().yaxis.set_major_formatter(formatter)\n",
    "\n",
    "plt.legend(title='Año')\n",
    "plt.xticks(rotation=45, ha='right')\n",
    "plt.show()"
   ]
  },
  {
   "attachments": {},
   "cell_type": "markdown",
   "metadata": {},
   "source": [
    "#### ¿Cuáles son los tipos de bombas más y menos producidos?"
   ]
  },
  {
   "cell_type": "code",
   "execution_count": null,
   "metadata": {},
   "outputs": [],
   "source": [
    "df_bombs.bomb_type.nunique()"
   ]
  },
  {
   "attachments": {},
   "cell_type": "markdown",
   "metadata": {},
   "source": [
    "Dada la cantidad de tipos de bombas, revisaremos las 20 más producidos y las 20 menos producidos"
   ]
  },
  {
   "attachments": {},
   "cell_type": "markdown",
   "metadata": {},
   "source": [
    ">Gráfico 4: Cantidad producida de las 20 tipos de bombas más demandados"
   ]
  },
  {
   "cell_type": "code",
   "execution_count": null,
   "metadata": {},
   "outputs": [],
   "source": [
    "material_counts = df_bombs.groupby(['bomb_type', 'bomb_description'])['good_qty'].size().reset_index(name='count').sort_values(by='count', ascending=False)\n",
    "material_counts['code_description'] = '[' + material_counts['bomb_type'].astype(str) + '] - ' + material_counts['bomb_description']\n",
    "material_counts[0:20].plot(kind='bar', x='code_description', figsize=(10, 5))\n",
    "plt.xlabel('Tipo de bomba')\n",
    "plt.ylabel('Cantidad producida')\n",
    "plt.title('Cantidad producida de los 20 bombas más demandadas')\n",
    "plt.xticks(rotation=70, ha='right', fontsize=8)\n",
    "plt.gca().legend().set_visible(False)\n",
    "plt.show()"
   ]
  },
  {
   "attachments": {},
   "cell_type": "markdown",
   "metadata": {},
   "source": [
    ">Gráfico 4: Cantidad producida de los 20 materiales menos demandados"
   ]
  },
  {
   "cell_type": "code",
   "execution_count": null,
   "metadata": {},
   "outputs": [],
   "source": [
    "material_counts[-20:].plot(kind='bar', x='code_description', figsize=(10, 5))\n",
    "plt.xlabel('Material')\n",
    "plt.ylabel('Cantidad producida')\n",
    "plt.title('Cantidad producida de los 20 materiales más demandados')\n",
    "plt.xticks(rotation=70, ha='right', fontsize=8)\n",
    "plt.gca().legend().set_visible(False)\n",
    "plt.show()"
   ]
  },
  {
   "attachments": {},
   "cell_type": "markdown",
   "metadata": {},
   "source": [
    "#### ¿Cuáles son los materiales más defectuosos?"
   ]
  },
  {
   "attachments": {},
   "cell_type": "markdown",
   "metadata": {},
   "source": [
    "Dada la cantidad de materiales, revisaremos los 20 más defectuosos y los 20 menos defectuosos\n",
    ">Se revisa en la data que entre todos los registros, no hay ninguno que tenga QtyMalas_Total y CantidadMalas"
   ]
  },
  {
   "attachments": {},
   "cell_type": "markdown",
   "metadata": {},
   "source": [
    "#### ¿Cuáles son las máquinas que más y menos producen?"
   ]
  },
  {
   "cell_type": "code",
   "execution_count": null,
   "metadata": {},
   "outputs": [],
   "source": [
    "bomb_counts = df_bombs.groupby(['line'])['good_qty'].sum().reset_index(name='count').sort_values(by='count', ascending=False)\n",
    "bomb_counts.plot(kind='bar', x='line', figsize=(10, 5))\n",
    "plt.xlabel('Línea')\n",
    "plt.ylabel('Cantidad producida [bombas]')\n",
    "plt.title('Cantidad de bombas producidas por línea')\n",
    "plt.xticks(rotation=70, ha='right', fontsize=8)\n",
    "plt.gca().yaxis.set_major_formatter(thousand_formatter)\n",
    "plt.gca().legend().set_visible(False)\n",
    "plt.show()"
   ]
  },
  {
   "cell_type": "code",
   "execution_count": null,
   "metadata": {},
   "outputs": [],
   "source": [
    "bomb_counts = df_bombs.groupby(['line'])['order'].size().reset_index(name='count').sort_values(by='count', ascending=False)\n",
    "bomb_counts.plot(kind='bar', x='line', figsize=(10, 5))\n",
    "plt.xlabel('Máquina')\n",
    "plt.ylabel('Cantidad producida [OFs]')\n",
    "plt.title('Cantidad de OFs trabajadas por linea')\n",
    "\n",
    "plt.xticks(rotation=70, ha='right', fontsize=8)\n",
    "plt.gca().yaxis.set_major_formatter(thousand_formatter)\n",
    "plt.gca().legend().set_visible(False)\n",
    "plt.show()"
   ]
  },
  {
   "attachments": {},
   "cell_type": "markdown",
   "metadata": {},
   "source": [
    "#### ¿Cuáles son los tiempos de producción de las lineas?"
   ]
  },
  {
   "cell_type": "code",
   "execution_count": null,
   "metadata": {},
   "outputs": [],
   "source": [
    "df_of[df_of.time_diff_minutes_calculated > 6000]"
   ]
  },
  {
   "cell_type": "code",
   "execution_count": null,
   "metadata": {},
   "outputs": [],
   "source": [
    "df_of['time_diff_hours_calculated'] = df_of.time_diff_minutes_calculated/60"
   ]
  },
  {
   "cell_type": "code",
   "execution_count": null,
   "metadata": {},
   "outputs": [],
   "source": [
    "plt.figure(figsize=(10, 10))\n",
    "sns.boxplot(data=df_of[df_of.time_diff_minutes_calculated < 6000], x='line', y='time_diff_minutes_calculated')\n",
    "plt.xlabel('Línea')\n",
    "plt.ylabel('Tiempo de producción (minutos)')\n",
    "plt.title('Tiempo de producción por OF por linea')\n",
    "plt.xticks(rotation=70, ha='right', fontsize=8)\n",
    "plt.show()"
   ]
  },
  {
   "cell_type": "code",
   "execution_count": null,
   "metadata": {},
   "outputs": [],
   "source": [
    "plt.figure(figsize=(10, 10))\n",
    "sns.boxplot(data=df_of[df_of.time_diff_minutes_calculated < 6000], x='line', y='time_diff_hours_calculated')\n",
    "plt.xlabel('Línea')\n",
    "plt.ylabel('Tiempo de producción (minutos)')\n",
    "plt.title('Tiempo de producción por OF por linea')\n",
    "plt.xticks(rotation=70, ha='right', fontsize=8)\n",
    "plt.show()"
   ]
  },
  {
   "attachments": {},
   "cell_type": "markdown",
   "metadata": {},
   "source": [
    "#### Gráficas de performance por linea"
   ]
  },
  {
   "cell_type": "code",
   "execution_count": null,
   "metadata": {},
   "outputs": [],
   "source": [
    "plt.figure(figsize=(10, 10))\n",
    "sns.boxplot(data=df_of, x='line', y='performance')\n",
    "plt.xlabel('Línea')\n",
    "plt.ylabel('Performance (%)')\n",
    "plt.title('Performance OFs por línea')\n",
    "plt.xticks(rotation=70, ha='right', fontsize=8)\n",
    "plt.show()"
   ]
  },
  {
   "attachments": {},
   "cell_type": "markdown",
   "metadata": {},
   "source": [
    "#### ¿Cuáles es la relación entre la cantidad teórica y la cantidad real?"
   ]
  },
  {
   "cell_type": "code",
   "execution_count": null,
   "metadata": {},
   "outputs": [],
   "source": [
    "lines = df_of.line.unique()\n",
    "\n",
    "for line in lines:\n",
    "    data = df_of[df_of.line == line].sort_values(by='theorical_qty')\n",
    "\n",
    "    plt.figure(figsize=(10, 5))\n",
    "    sns.histplot(data=data, x='theorical_qty', bins=20, kde=True, label='Teórico')\n",
    "    sns.histplot(data=data, x='good_qty', bins=20, kde=True, label='Real')\n",
    "    plt.xlabel('Cantidad de producción teórica versus real')\n",
    "    plt.ylabel('Frecuencia')\n",
    "    plt.title(f'Distribución de la cantidad teórica de producción de la {line}')\n",
    "    plt.xticks(rotation=70, ha='right', fontsize=8)\n",
    "    plt.gca().legend().set_visible(True)\n",
    "    plt.show()"
   ]
  },
  {
   "attachments": {},
   "cell_type": "markdown",
   "metadata": {},
   "source": [
    "#### Performance"
   ]
  },
  {
   "cell_type": "code",
   "execution_count": null,
   "metadata": {},
   "outputs": [],
   "source": [
    "data = df_of.sort_values(by='performance')\n",
    "\n",
    "plt.figure(figsize=(10, 5))\n",
    "sns.histplot(data=data, x='performance', bins=100, kde=True)\n",
    "plt.xlabel('Performance por OF')\n",
    "plt.ylabel('Frecuencia')\n",
    "plt.title('Distribución de la performance en todas las OFs de la empresa')\n",
    "plt.xticks(rotation=70, ha='right', fontsize=8)\n",
    "plt.gca().xaxis.set_major_formatter(percentage_formatter)\n",
    "plt.show()"
   ]
  },
  {
   "cell_type": "code",
   "execution_count": null,
   "metadata": {},
   "outputs": [],
   "source": [
    "lines = df_of.line.unique()\n",
    "\n",
    "for line in lines:\n",
    "    data = df_of[df_of.line == line].sort_values(by='performance')\n",
    "\n",
    "    plt.figure(figsize=(10, 5))\n",
    "    sns.histplot(data=data, x='performance', bins=100, kde=True)\n",
    "    plt.xlabel('Performance de produccicón teórica versus real')\n",
    "    plt.ylabel('Frecuencia')\n",
    "    plt.title(f'Distribución de la performance de producción de la {line}')\n",
    "    plt.xticks(rotation=70, ha='right', fontsize=8)\n",
    "    plt.gca().xaxis.set_major_formatter(percentage_formatter)\n",
    "    plt.show()"
   ]
  },
  {
   "cell_type": "code",
   "execution_count": null,
   "metadata": {},
   "outputs": [],
   "source": [
    "df_gouped = df_of.groupby('line').agg(of_qty=('order', 'count'), mean_performance=('performance', 'mean')).reset_index().sort_values(by='mean_performance')\n",
    "df_gouped"
   ]
  },
  {
   "cell_type": "code",
   "execution_count": null,
   "metadata": {},
   "outputs": [],
   "source": [
    "df_gouped.plot(kind='bar', x='line', y='mean_performance', figsize=(10, 5))\n",
    "plt.xlabel('Línea')\n",
    "plt.ylabel('Media Performance')\n",
    "plt.title('Media de Performance por linea')\n",
    "\n",
    "plt.xticks(rotation=70, ha='right', fontsize=8)\n",
    "plt.gca().yaxis.set_major_formatter(percentage_formatter)\n",
    "plt.gca().legend().set_visible(False)\n",
    "plt.show()"
   ]
  },
  {
   "attachments": {},
   "cell_type": "markdown",
   "metadata": {},
   "source": [
    "## Exploración por operarios"
   ]
  },
  {
   "attachments": {},
   "cell_type": "markdown",
   "metadata": {},
   "source": [
    "### Generación de dataframe operadores-OFs en general"
   ]
  },
  {
   "cell_type": "code",
   "execution_count": null,
   "metadata": {},
   "outputs": [],
   "source": [
    "df_of.head()"
   ]
  },
  {
   "cell_type": "code",
   "execution_count": null,
   "metadata": {},
   "outputs": [],
   "source": [
    "data_operators = {\n",
    "    'id': [], 'of_ids': [], 'of_performances': [], 'of_qty': [],\n",
    "    'line_ids': [], 'lines_qty': [], 'bomb_type_ids': [], 'bomb_types_qty': [],\n",
    "    'min_registered_date': [], 'max_registered_date': []\n",
    "}\n",
    "\n",
    "for index, row in df_of.iterrows():\n",
    "    for operator_id in row['operators_distinct_ids']:\n",
    "        if operator_id not in data_operators['id']:\n",
    "            data_operators['id'].append(operator_id)\n",
    "            data_operators['of_ids'].append([row['order']]) \n",
    "            data_operators['of_performances'].append([row['performance']])\n",
    "            data_operators['of_qty'].append(1)\n",
    "            data_operators['line_ids'].append([row['line']])\n",
    "            data_operators['lines_qty'].append(1)\n",
    "            data_operators['bomb_type_ids'].append([row['bomb_type']])\n",
    "            data_operators['bomb_types_qty'].append(1)\n",
    "            data_operators['min_registered_date'].append(row['start_date'])\n",
    "            data_operators['max_registered_date'].append(row['end_date'])\n",
    "        else:\n",
    "            oper_index = data_operators['id'].index(operator_id)\n",
    "            data_operators['of_ids'][oper_index].append(row['order'])\n",
    "            data_operators['of_performances'][oper_index].append(row['performance'])\n",
    "            data_operators['of_qty'][oper_index] += 1\n",
    "            if row['line'] not in data_operators['line_ids'][oper_index]:\n",
    "                data_operators['line_ids'][oper_index].append(row['line'])\n",
    "                data_operators['lines_qty'][oper_index] += 1\n",
    "            if row['bomb_type'] not in data_operators['bomb_type_ids'][oper_index]:\n",
    "                data_operators['bomb_type_ids'][oper_index].append(row['bomb_type'])\n",
    "                data_operators['bomb_types_qty'][oper_index] += 1\n",
    "            if row['start_date'] < data_operators['min_registered_date'][oper_index]:\n",
    "                data_operators['min_registered_date'][oper_index] = row['start_date']\n",
    "            if row['end_date'] > data_operators['max_registered_date'][oper_index]:\n",
    "                data_operators['max_registered_date'][oper_index] = row['end_date']\n",
    "     \n",
    "     \n",
    "df_operators = pd.DataFrame(data_operators)            \n",
    "df_operators['mean_performance'] = df_operators.of_performances.apply(lambda x: sum(x)/len(x))\n",
    "df_operators['std_performance'] = df_operators.of_performances.apply(lambda x: np.std(x))\n",
    "df_operators['min_performance'] = df_operators.of_performances.apply(lambda x: min(x))\n",
    "df_operators['max_performance'] = df_operators.of_performances.apply(lambda x: max(x))\n",
    "print(df_operators.shape)\n",
    "df_operators.head()"
   ]
  },
  {
   "attachments": {},
   "cell_type": "markdown",
   "metadata": {},
   "source": [
    "Información de cómo distribuyen los operadores"
   ]
  },
  {
   "cell_type": "code",
   "execution_count": null,
   "metadata": {},
   "outputs": [],
   "source": [
    "print(f'''\n",
    "Cantidad de trabajadores: {df_operators.id.nunique()}\n",
    "Lineas por trabajador --> Media: {round(df_operators.lines_qty.mean(), 3)} | Min: {df_operators.lines_qty.min()} | Max: {df_operators.lines_qty.max()}\n",
    "Bombas por trabajador --> Media: {round(df_operators.bomb_types_qty.mean(), 3)} | Min: {df_operators.bomb_types_qty.min()} | Max: {df_operators.bomb_types_qty.max()}\n",
    "''')"
   ]
  },
  {
   "cell_type": "code",
   "execution_count": null,
   "metadata": {},
   "outputs": [],
   "source": [
    "data = df_operators.sort_values(by='mean_performance')\n",
    "\n",
    "plt.figure(figsize=(10, 5))\n",
    "sns.histplot(data=data, x='mean_performance', bins=9, kde=True)\n",
    "plt.xlabel('Media de performance de operadores')\n",
    "plt.ylabel('Frecuencia')\n",
    "plt.title('Distribución de la media de performance de operadores')\n",
    "plt.xticks(rotation=70, ha='right', fontsize=8)\n",
    "plt.gca().xaxis.set_major_formatter(percentage_formatter)\n",
    "\n",
    "plt.show()"
   ]
  },
  {
   "attachments": {},
   "cell_type": "markdown",
   "metadata": {},
   "source": [
    "Performance promedio operadores"
   ]
  },
  {
   "cell_type": "code",
   "execution_count": null,
   "metadata": {},
   "outputs": [],
   "source": [
    "sns.set_style('white')\n",
    "data = df_operators.sort_values(by='lines_qty')\n",
    "\n",
    "plt.figure(figsize=(10, 5))\n",
    "sns.histplot(data=data, x='lines_qty', bins=9, kde=True)\n",
    "\n",
    "plt.xlabel('Cantidad de lineas distintas en que se ha trabajado')\n",
    "plt.ylabel('Frecuencia')\n",
    "plt.title('Distribución del trabajo de operadores en líneas distintas')\n",
    "plt.xticks(rotation=70, ha='right', fontsize=8)\n",
    "\n",
    "plt.show()"
   ]
  },
  {
   "cell_type": "code",
   "execution_count": null,
   "metadata": {},
   "outputs": [],
   "source": [
    "sns.set_style('white')\n",
    "data = df_operators.sort_values(by='bomb_types_qty')\n",
    "\n",
    "plt.figure(figsize=(10, 5))\n",
    "sns.histplot(data=data, x='bomb_types_qty', bins=30, kde=True)\n",
    "\n",
    "plt.xlabel('Cantidad de tipos de bombas distintas en que se ha trabajado')\n",
    "plt.ylabel('Frecuencia')\n",
    "plt.title('Distribución del trabajo de operadores en tipos de bombas distintas')\n",
    "plt.xticks(rotation=70, ha='right', fontsize=8)\n",
    "\n",
    "plt.show()"
   ]
  },
  {
   "attachments": {},
   "cell_type": "markdown",
   "metadata": {},
   "source": [
    "### Generación de dataframe operadores-OF-participación"
   ]
  },
  {
   "cell_type": "code",
   "execution_count": null,
   "metadata": {},
   "outputs": [],
   "source": [
    "operator_data = {}\n",
    "\n",
    "for index, row in df_bombs.iterrows():\n",
    "    order = row['order']\n",
    "    operators = [op for op in row['operators_ids'].split(',') if op] \n",
    "    time_diff_minutes = row['time_diff_minutes_calculated']\n",
    "\n",
    "    for operator in operators:\n",
    "        if operator and (operator, order) not in operator_data:\n",
    "            operator_data[(operator, order)] = 0\n",
    "        operator_data[(operator, order)] += time_diff_minutes\n",
    "\n",
    "new_df_data = []\n",
    "for (operator, order), time in operator_data.items():\n",
    "    new_df_data.append({'operator_id': operator, 'order': order, 'participation_minutes': time})\n",
    "\n",
    "df_operators_participation = pd.DataFrame(new_df_data)\n",
    "df_operators_participation.head()"
   ]
  },
  {
   "cell_type": "code",
   "execution_count": null,
   "metadata": {},
   "outputs": [],
   "source": [
    "df_of_index = df_of.set_index('order')\n",
    "\n",
    "def get_info(row, col):\n",
    "    return df_of_index.loc[row['order'], col]\n",
    "\n",
    "def calculate_percentage(row):\n",
    "    order = row['order']\n",
    "    participation_minutes = row['participation_minutes']\n",
    "    total_operators_minutes = df_of_index.loc[order, 'total_operators_minutes']\n",
    "    return round((participation_minutes / total_operators_minutes) * 100, 1)\n",
    "\n",
    "df_operators_participation['total_operators_minutes'] = df_operators_participation.apply(lambda row: get_info(row, 'total_operators_minutes'), axis=1)\n",
    "df_operators_participation['participation_percentage'] = df_operators_participation.apply(calculate_percentage, axis=1)\n",
    "df_operators_participation['of_performance'] = df_operators_participation.apply(lambda row: get_info(row, 'performance'), axis=1)\n",
    "df_operators_participation['bomb_type'] = df_operators_participation.apply(lambda row: get_info(row, 'bomb_type'), axis=1)\n",
    "df_operators_participation['good_qty'] = df_operators_participation.apply(lambda row: get_info(row, 'good_qty'), axis=1)\n",
    "df_operators_participation['line'] = df_operators_participation.apply(lambda row: get_info(row, 'line'), axis=1)\n",
    "df_operators_participation['theorical_qty'] = df_operators_participation.apply(lambda row: get_info(row, 'theorical_qty'), axis=1)\n",
    "df_operators_participation['production_date'] = df_operators_participation.apply(lambda row: get_info(row, 'end_date'), axis=1)\n",
    "\n",
    "df_operators_participation"
   ]
  },
  {
   "cell_type": "code",
   "execution_count": null,
   "metadata": {},
   "outputs": [],
   "source": [
    "df_operators_participation.groupby(['operator_id', 'line']).agg(orders_qty=('order', 'count'),).reset_index().sort_values(by='orders_qty', ascending=False)"
   ]
  },
  {
   "cell_type": "code",
   "execution_count": null,
   "metadata": {},
   "outputs": [],
   "source": [
    "df_grouped = df_operators_participation.groupby(['operator_id', 'line']).agg(orders_qty=('order', 'count'),).reset_index().groupby(['operator_id']).agg(lines_qty=('line', 'count'),).reset_index()\n",
    "df_grouped[df_grouped.lines_qty > 1]"
   ]
  },
  {
   "cell_type": "code",
   "execution_count": null,
   "metadata": {},
   "outputs": [],
   "source": [
    "data = df_grouped.sort_values(by='lines_qty')\n",
    "\n",
    "plt.figure(figsize=(10, 5))\n",
    "sns.histplot(data=data, x='lines_qty', bins=8, kde=True)\n",
    "plt.xlabel('Cantidad de líneas distintas')\n",
    "plt.ylabel('Cantidad trabajadores')\n",
    "plt.title('Cantidad de líneas distintas en que los operadores trabajan')\n",
    "plt.xticks(rotation=70, ha='right', fontsize=8)\n",
    "\n",
    "plt.show()"
   ]
  },
  {
   "attachments": {},
   "cell_type": "markdown",
   "metadata": {},
   "source": [
    "Cantidad de operadores según distintas líneas en las que han trabajado\n"
   ]
  },
  {
   "cell_type": "code",
   "execution_count": null,
   "metadata": {},
   "outputs": [],
   "source": [
    "df_grouped.groupby(['lines_qty']).agg(operators_qty=('operator_id', 'count'),).reset_index()"
   ]
  },
  {
   "attachments": {},
   "cell_type": "markdown",
   "metadata": {},
   "source": [
    "## Exploración patrones en performance"
   ]
  },
  {
   "attachments": {},
   "cell_type": "markdown",
   "metadata": {},
   "source": [
    "### ¿Cómo es la performance de los trabajadores de la fábrica?"
   ]
  },
  {
   "cell_type": "code",
   "execution_count": null,
   "metadata": {},
   "outputs": [],
   "source": [
    "df_operators.head()"
   ]
  },
  {
   "attachments": {},
   "cell_type": "markdown",
   "metadata": {},
   "source": [
    "#### Definición de segmentos"
   ]
  },
  {
   "cell_type": "code",
   "execution_count": null,
   "metadata": {},
   "outputs": [],
   "source": [
    "df_op_1 = df_operators[(df_operators.mean_performance > 1.0)]\n",
    "df_op_2 = df_operators[(df_operators.mean_performance > .9) & (df_operators.mean_performance <= 1.0)]\n",
    "df_op_3 = df_operators[(df_operators.mean_performance > .8) & (df_operators.mean_performance <= .9)]\n",
    "df_op_4 = df_operators[(df_operators.mean_performance > .7) & (df_operators.mean_performance <= .8)]\n",
    "df_op_5 = df_operators[(df_operators.mean_performance > .6) & (df_operators.mean_performance <= .7)]\n",
    "df_op_6 = df_operators[(df_operators.mean_performance > .5) & (df_operators.mean_performance <= .6)]\n",
    "df_op_7 = df_operators[(df_operators.mean_performance <= .5)]"
   ]
  },
  {
   "cell_type": "code",
   "execution_count": null,
   "metadata": {},
   "outputs": [],
   "source": [
    "operators_seg_dict = {\n",
    "'[> 100%]': df_op_1,\n",
    "'[90% - 100%]': df_op_2,\n",
    "'[80% - 90%]': df_op_3,\n",
    "'[70% - 80%]': df_op_4,\n",
    "'[60% - 70%]': df_op_5,  \n",
    "'[50% - 60%]': df_op_6,\n",
    "'[< 50%]': df_op_7    \n",
    "}"
   ]
  },
  {
   "cell_type": "code",
   "execution_count": null,
   "metadata": {},
   "outputs": [],
   "source": [
    "print(f'''\n",
    "  Rendimientos promedios de operadores:\n",
    "  \n",
    "  [> 100%] --> {df_op_1.shape[0]} | {round(df_op_1.shape[0]/df_operators.shape[0]*100, 2)}% \n",
    "  [90% - 100%] --> {df_op_2.shape[0]} | {round(df_op_2.shape[0]/df_operators.shape[0]*100, 2)}% \n",
    "  [80% - 90%] --> {df_op_3.shape[0]} | {round(df_op_3.shape[0]/df_operators.shape[0]*100, 2)}% \n",
    "  [70% - 80%] --> {df_op_4.shape[0]} | {round(df_op_4.shape[0]/df_operators.shape[0]*100, 2)}% \n",
    "  [60% - 70%] --> {df_op_5.shape[0]} | {round(df_op_5.shape[0]/df_operators.shape[0]*100, 2)}% \n",
    "  [50% - 60%] --> {df_op_6.shape[0]} | {round(df_op_6.shape[0]/df_operators.shape[0]*100, 2)}% \n",
    "  [< 50%] --> {df_op_7.shape[0]} | {round(df_op_7.shape[0]/df_operators.shape[0]*100, 2)}% \n",
    "''')"
   ]
  },
  {
   "cell_type": "code",
   "execution_count": null,
   "metadata": {},
   "outputs": [],
   "source": [
    "labels = ['> 100%', '90%-100%', '80%-90%', '70%-80%', '60%-70%', '50%-60%', '< 50%']\n",
    "values = [3, 17, 48, 26, 8, 7, 5]\n",
    "percentages = [2.63, 14.91, 42.11, 22.81, 7.02, 6.14, 4.39]\n",
    "\n",
    "# Crear el gráfico de barras\n",
    "fig, ax = plt.subplots()\n",
    "bars = ax.bar(labels, values)\n",
    "\n",
    "# Agregar porcentajes sobre las barras\n",
    "for i, bar in enumerate(bars):\n",
    "    height = bar.get_height()\n",
    "    ax.text(bar.get_x() + bar.get_width() / 2, height + 0.5, f'{percentages[i]:.2f}%', ha='center', va='bottom')\n",
    "\n",
    "# Configurar etiquetas y título\n",
    "ax.set_ylabel('Cantidad de operadores')\n",
    "ax.set_title('Cantidad de operadores según\\nsegmento de performance promedio', pad=30)\n",
    "plt.xticks(rotation=75)\n",
    "\n",
    "# Mostrar el gráfico\n",
    "plt.show()"
   ]
  },
  {
   "attachments": {},
   "cell_type": "markdown",
   "metadata": {},
   "source": [
    "### Evaluación de cada segmento"
   ]
  },
  {
   "cell_type": "code",
   "execution_count": null,
   "metadata": {},
   "outputs": [],
   "source": [
    "print(f'''\n",
    "Promedio de porcentaje de participación (sobre total de la OF) y cantidad promedio de OFs trabajadas según cada segmento:\n",
    "[> 100%] --> {round(df_operators_participation[df_operators_participation.operator_id.isin(df_op_1.id.unique())].participation_percentage.mean(), 2)}% | {round(df_op_1.of_qty.mean(), 1)}\n",
    "[90% - 100%] --> {round(df_operators_participation[df_operators_participation.operator_id.isin(df_op_2.id.unique())].participation_percentage.mean(), 2)}% | {round(df_op_2.of_qty.mean(), 1)} \n",
    "[80% - 90%] --> {round(df_operators_participation[df_operators_participation.operator_id.isin(df_op_3.id.unique())].participation_percentage.mean(), 2)}% | {round(df_op_3.of_qty.mean(), 1)} \n",
    "[70% - 80%] --> {round(df_operators_participation[df_operators_participation.operator_id.isin(df_op_4.id.unique())].participation_percentage.mean(), 2)}% | {round(df_op_4.of_qty.mean(), 1)}  \n",
    "[60% - 70%] --> {round(df_operators_participation[df_operators_participation.operator_id.isin(df_op_5.id.unique())].participation_percentage.mean(), 2)}% | {round(df_op_5.of_qty.mean(), 1)} \n",
    "[50% - 60%] --> {round(df_operators_participation[df_operators_participation.operator_id.isin(df_op_6.id.unique())].participation_percentage.mean(), 2)}% | {round(df_op_6.of_qty.mean(), 1)}  \n",
    "[< 50%] --> {round(df_operators_participation[df_operators_participation.operator_id.isin(df_op_7.id.unique())].participation_percentage.mean(), 2)}% | {round(df_op_7.of_qty.mean(), 1)}       \n",
    "''')"
   ]
  },
  {
   "cell_type": "code",
   "execution_count": null,
   "metadata": {},
   "outputs": [],
   "source": [
    "data = df_of[df_of.total_operators_minutes < 12000] # quitar outlier de 17392 minutos-hombre\n",
    "plt.scatter(data['total_operators_minutes'], data['performance'], alpha=0.5)\n",
    "plt.title('Relación entre minutos-hombre y performance')\n",
    "plt.xlabel('Minutos-hombre')\n",
    "plt.ylabel('Performance')\n",
    "plt.show()"
   ]
  },
  {
   "attachments": {},
   "cell_type": "markdown",
   "metadata": {},
   "source": [
    "#### Participación por línea según cada segmento"
   ]
  },
  {
   "cell_type": "code",
   "execution_count": null,
   "metadata": {},
   "outputs": [],
   "source": [
    "for seg, df_op in operators_seg_dict.items():\n",
    "    data = df_operators_participation[df_operators_participation.operator_id.isin(df_op.id.unique())]\n",
    "    data = data.groupby(['line'])['order'].size().reset_index(name='count').sort_values(by='line', ascending=False)\n",
    "    plt.bar(data['line'], data['count'], label=str(seg))\n",
    "\n",
    "plt.xlabel('Línea')\n",
    "plt.ylabel('Participación operarios')\n",
    "plt.title('Participación de operarios por línea por segmento')\n",
    "\n",
    "# Aplicar el formateador al eje y\n",
    "formatter = FuncFormatter(thousands_formatter)\n",
    "plt.gca().yaxis.set_major_formatter(formatter)\n",
    "\n",
    "plt.legend(title='Segmento')\n",
    "plt.xticks(rotation=45, ha='right')\n",
    "plt.show()"
   ]
  },
  {
   "cell_type": "code",
   "execution_count": null,
   "metadata": {},
   "outputs": [],
   "source": [
    "segments_list= ['[> 100%]', '[90% - 100%]']\n",
    "for seg, df_op in {key: value for key, value in operators_seg_dict.items() if key in segments_list}.items():\n",
    "    data = df_operators_participation[df_operators_participation.operator_id.isin(df_op.id.unique())]\n",
    "    data = data.groupby(['line'])['order'].size().reset_index(name='count').sort_values(by='line', ascending=False)\n",
    "    plt.bar(data['line'], data['count'], label=str(seg))\n",
    "\n",
    "plt.xlabel('Línea')\n",
    "plt.ylabel('Participación operarios')\n",
    "plt.title(f'Participación de operarios por línea\\npara segmentos {segments_list}')\n",
    "\n",
    "plt.legend(title='Segmento')\n",
    "plt.xticks(rotation=45, ha='right')\n",
    "plt.show()"
   ]
  },
  {
   "cell_type": "code",
   "execution_count": null,
   "metadata": {},
   "outputs": [],
   "source": [
    "segments_list= ['[80% - 90%]', '[70% - 80%]', '[60% - 70%]', '[50% - 60%]', '[< 50%]']\n",
    "for seg, df_op in {key: value for key, value in operators_seg_dict.items() if key in segments_list}.items():\n",
    "    data = df_operators_participation[df_operators_participation.operator_id.isin(df_op.id.unique())]\n",
    "    data = data.groupby(['line'])['order'].size().reset_index(name='count').sort_values(by='line', ascending=False)\n",
    "    plt.bar(data['line'], data['count'], label=str(seg))\n",
    "\n",
    "plt.xlabel('Línea')\n",
    "plt.ylabel('Participación operarios')\n",
    "plt.title('Participación de operarios por línea\\n por segmento de performance')\n",
    "\n",
    "plt.legend(title='Segmento')\n",
    "plt.xticks(rotation=45, ha='right')\n",
    "plt.show()"
   ]
  },
  {
   "cell_type": "code",
   "execution_count": null,
   "metadata": {},
   "outputs": [],
   "source": [
    "segments_list= ['[> 100%]', '[< 50%]']\n",
    "for seg, df_op in {key: value for key, value in operators_seg_dict.items() if key in segments_list}.items():\n",
    "    data = df_operators_participation[df_operators_participation.operator_id.isin(df_op.id.unique())]\n",
    "    data = data.groupby(['line'])['order'].size().reset_index(name='count').sort_values(by='line', ascending=False)\n",
    "    plt.bar(data['line'], data['count'], label=str(seg))\n",
    "\n",
    "plt.xlabel('Línea')\n",
    "plt.ylabel('Participación operarios')\n",
    "plt.title('Participación de operarios por línea\\n por segmento de performance')\n",
    "\n",
    "plt.legend(title='Segmento')\n",
    "plt.xticks(rotation=45, ha='right')\n",
    "plt.show()"
   ]
  },
  {
   "attachments": {},
   "cell_type": "markdown",
   "metadata": {},
   "source": [
    "##### Detalle por segmento"
   ]
  },
  {
   "cell_type": "code",
   "execution_count": null,
   "metadata": {},
   "outputs": [],
   "source": [
    "for seg, df_op in operators_seg_dict.items():\n",
    "    data = df_operators_participation[df_operators_participation.operator_id.isin(df_op.id.unique())]\n",
    "    data = data.groupby(['line'])['order'].size().reset_index(name='count').sort_values(by='line', ascending=False)\n",
    "    data.plot(kind='bar', x='line', figsize=(10, 5))\n",
    "    plt.xlabel('Línea')\n",
    "    plt.ylabel('Frecuencia participaciones operadores')\n",
    "    plt.title(f'Cantidad participaciones por línea en segmento {seg}')\n",
    "    plt.xticks(rotation=70, ha='right', fontsize=8)\n",
    "    plt.gca().legend().set_visible(False)\n",
    "    plt.show()\n",
    "\n"
   ]
  },
  {
   "attachments": {},
   "cell_type": "markdown",
   "metadata": {},
   "source": [
    "#### Participación por rangos sobre el tiempo de participación en el tiempo total de las OFs"
   ]
  },
  {
   "cell_type": "code",
   "execution_count": null,
   "metadata": {},
   "outputs": [],
   "source": [
    "data = df_operators_participation\n",
    "data['participation_category'] = pd.cut(data['participation_percentage'], \n",
    "                                        bins=range(0, 105, 5),\n",
    "                                        labels=[f'{i}% - {i+5}%' for i in range(0, 100, 5)]).fillna('0% - 5%')\n",
    "data = data.groupby(['participation_category'])['order'].size().reset_index(name='count').sort_values(by='participation_category', ascending=True)\n",
    "plt.bar(data['participation_category'], data['count'])\n",
    "\n",
    "plt.xlabel('Porcentaje de participación sobre tiempo total OF')\n",
    "plt.ylabel('Frecuencia')\n",
    "plt.title('Frecuencia % de participación en tiempo total')\n",
    "\n",
    "plt.xticks(rotation=90, fontsize=8, ha='center')\n",
    "plt.show()"
   ]
  },
  {
   "cell_type": "code",
   "execution_count": null,
   "metadata": {},
   "outputs": [],
   "source": [
    "segments_list= ['[80% - 90%]', '[70% - 80%]', '[60% - 70%]', '[50% - 60%]', '[< 50%]']\n",
    "segments_list= operators_seg_dict.keys()\n",
    "data = df_operators_participation\n",
    "data['participation_category'] = pd.cut(data['participation_percentage'], \n",
    "                                        bins=range(0, 105, 5),\n",
    "                                        labels=[f'{i}% - {i+5}%' for i in range(0, 100, 5)]).fillna('0% - 5%')\n",
    "for seg, df_op in {key: value for key, value in operators_seg_dict.items() if key in segments_list}.items():\n",
    "    data_aux = df_operators_participation[df_operators_participation.operator_id.isin(df_op.id.unique())]\n",
    "    data_aux = data_aux.groupby(['participation_category'])['order'].size().reset_index(name='count').sort_values(by='participation_category', ascending=True)\n",
    "    plt.bar(data_aux['participation_category'], data_aux['count'], label=str(seg))\n",
    "\n",
    "plt.xlabel('Porcentaje de participación sobre tiempo total OF')\n",
    "plt.ylabel('Participación operarios')\n",
    "plt.title('Participación de operarios por línea por segmento de performance')\n",
    "\n",
    "plt.legend(title='Segmento')\n",
    "plt.xticks(rotation=90, fontsize=8, ha='center')\n",
    "plt.show()"
   ]
  },
  {
   "cell_type": "code",
   "execution_count": null,
   "metadata": {},
   "outputs": [],
   "source": [
    "segments_list= ['[< 50%]', '[> 100%]']\n",
    "data = df_operators_participation\n",
    "data['participation_category'] = pd.cut(data['participation_percentage'], \n",
    "                                        bins=range(0, 105, 5),\n",
    "                                        labels=[f'{i}% - {i+5}%' for i in range(0, 100, 5)]).fillna('0% - 5%')\n",
    "for seg, df_op in {key: value for key, value in operators_seg_dict.items() if key in segments_list}.items():\n",
    "    data_aux = data[data.operator_id.isin(df_op.id.unique())]\n",
    "    data_aux = data_aux.groupby(['participation_category'])['order'].size().reset_index(name='count').sort_values(by='participation_category', ascending=True)\n",
    "    plt.bar(data_aux['participation_category'], data_aux['count'], label=str(seg))\n",
    "\n",
    "plt.xlabel('Porcentaje de participación sobre tiempo total OF')\n",
    "plt.ylabel('Participación operarios')\n",
    "plt.title('Participación de operarios por línea por segmento de performance')\n",
    "\n",
    "plt.legend(title='Segmento')\n",
    "plt.xticks(rotation=90, fontsize=8, ha='center')\n",
    "plt.show()"
   ]
  },
  {
   "cell_type": "code",
   "execution_count": null,
   "metadata": {},
   "outputs": [],
   "source": [
    "data = df_operators_participation\n",
    "data['performance_category'] = pd.cut(data['of_performance']*100, \n",
    "                                        bins=range(0, 120, 10),\n",
    "                                        labels=[f'{i}% - {i+10}%' for i in range(0, 110, 10)]).fillna('0% - 10%')"
   ]
  },
  {
   "cell_type": "code",
   "execution_count": null,
   "metadata": {},
   "outputs": [],
   "source": [
    "df_operators_participation.head()"
   ]
  },
  {
   "cell_type": "code",
   "execution_count": null,
   "metadata": {},
   "outputs": [],
   "source": [
    "segments_list= ['[80% - 90%]', '[70% - 80%]', '[60% - 70%]', '[50% - 60%]']\n",
    "data = df_operators_participation\n",
    "data['participation_category'] = pd.cut(data['participation_percentage'], \n",
    "                                        bins=range(0, 105, 5),\n",
    "                                        labels=[f'{i}% - {i+5}%' for i in range(0, 100, 5)]).fillna('0% - 5%')\n",
    "for seg, df_op in {key: value for key, value in operators_seg_dict.items() if key in segments_list}.items():\n",
    "    data_aux = data[data.operator_id.isin(df_op.id.unique())]\n",
    "    data_aux = data_aux.groupby(['participation_category'])['order'].size().reset_index(name='count').sort_values(by='participation_category', ascending=True)\n",
    "    plt.bar(data_aux['participation_category'], data_aux['count'], label=str(seg))\n",
    "\n",
    "plt.xlabel('Porcentaje de participación sobre tiempo total OF')\n",
    "plt.ylabel('Participación sobre\\ntiempo total de operarios')\n",
    "plt.title('Participación de operarios por línea por segmento de performance')\n",
    "\n",
    "plt.legend(title='Segmento')\n",
    "plt.xticks(rotation=90, fontsize=8, ha='center')\n",
    "plt.show()"
   ]
  },
  {
   "cell_type": "code",
   "execution_count": null,
   "metadata": {},
   "outputs": [],
   "source": [
    "plt.figure(figsize=(10, 10))\n",
    "sns.boxplot(data=df_operators_participation, x='performance_category', y='participation_percentage')\n",
    "plt.xlabel('Performance por participación')\n",
    "plt.ylabel('Participación Tiempo de producción OF (%)')\n",
    "plt.title('Porcentaje de Participación en tiempo total \\nde producción según segmentos de performance')\n",
    "plt.xticks(rotation=70, ha='right', fontsize=8)\n",
    "plt.show()"
   ]
  },
  {
   "attachments": {},
   "cell_type": "markdown",
   "metadata": {},
   "source": [
    "#### Cantidad de operadores por OF según segmento de performance"
   ]
  },
  {
   "cell_type": "code",
   "execution_count": null,
   "metadata": {},
   "outputs": [],
   "source": [
    "df_of['performance_category'] = pd.cut(df_of['performance']*100, \n",
    "                                        bins=range(0, 120, 10),\n",
    "                                        labels=[f'{i}% - {i+10}%' for i in range(0, 110, 10)]).fillna('0% - 10%')\n",
    "df_of.head()"
   ]
  },
  {
   "cell_type": "code",
   "execution_count": null,
   "metadata": {},
   "outputs": [],
   "source": [
    "plt.figure(figsize=(10, 10))\n",
    "sns.boxplot(data=df_of, x='performance_category', y='operators_distinct_qty')\n",
    "plt.xlabel('Performance')\n",
    "plt.ylabel('Cantidad de operadores')\n",
    "plt.title('Cantidad de operadores participantes en OFs según segmentos de performance')\n",
    "plt.xticks(rotation=70, ha='right', fontsize=12)\n",
    "plt.show()"
   ]
  },
  {
   "cell_type": "code",
   "execution_count": null,
   "metadata": {},
   "outputs": [],
   "source": [
    "plt.figure(figsize=(10, 10))\n",
    "sns.boxplot(data=df_of, x='line', y='operators_distinct_qty')\n",
    "plt.xlabel('Línea')\n",
    "plt.ylabel('Cantidad de operadores')\n",
    "plt.title('Cantidad de operadroes participantes en OFs según Línea')\n",
    "plt.xticks(rotation=70, ha='right', fontsize=12)\n",
    "plt.show()"
   ]
  },
  {
   "cell_type": "code",
   "execution_count": null,
   "metadata": {},
   "outputs": [],
   "source": [
    "plt.figure(figsize=(10, 10))\n",
    "sns.boxplot(data=df_of[df_of.registers_qty < 600], x='performance_category', y='registers_qty')\n",
    "plt.xlabel('Performance')\n",
    "plt.ylabel('Cantidad de registros')\n",
    "plt.title('Cantidad de registros en OFs según Performance')\n",
    "plt.xticks(rotation=70, ha='right', fontsize=12)\n",
    "plt.show()"
   ]
  },
  {
   "cell_type": "code",
   "execution_count": null,
   "metadata": {},
   "outputs": [],
   "source": [
    "FEATURES = ['good_qty', 'bad_qty', 'time_diff_seconds_calculated', 'time_diff_minutes_calculated',\n",
    "            'total_operators_minutes', 'registers_qty', 'operators_distinct_qty', 'theorical_qty',\n",
    "            'performance', 'line', 'bomb_type'\n",
    "]"
   ]
  },
  {
   "cell_type": "code",
   "execution_count": null,
   "metadata": {},
   "outputs": [],
   "source": [
    "df_of.head()"
   ]
  },
  {
   "cell_type": "code",
   "execution_count": null,
   "metadata": {},
   "outputs": [],
   "source": [
    "sns.pairplot(df_of[FEATURES])"
   ]
  },
  {
   "cell_type": "code",
   "execution_count": null,
   "metadata": {},
   "outputs": [],
   "source": [
    "\n",
    "corrmat = df_of[FEATURES].corr()\n",
    "hm = sns.heatmap(corrmat, \n",
    "                 cbar=True, \n",
    "                 annot=True, \n",
    "                 square=True, \n",
    "                 fmt='.2f', \n",
    "                 annot_kws={'size': 10}, \n",
    "                 yticklabels=df_of[FEATURES].columns,\n",
    "                 xticklabels=df_of[FEATURES].columns, \n",
    "                 cmap=\"Spectral_r\")\n",
    "plt.xticks(fontsize=8)\n",
    "plt.yticks(fontsize=8)\n",
    "plt.show()"
   ]
  },
  {
   "attachments": {},
   "cell_type": "markdown",
   "metadata": {},
   "source": [
    "## Guardar tablas como csv"
   ]
  },
  {
   "cell_type": "code",
   "execution_count": null,
   "metadata": {},
   "outputs": [],
   "source": [
    "df_operators_participation.head()"
   ]
  },
  {
   "cell_type": "code",
   "execution_count": null,
   "metadata": {},
   "outputs": [],
   "source": [
    "save_tables = False\n",
    "if save_tables:\n",
    "    print(df_operators_participation.head())\n",
    "    df_operators_participation.to_csv('data/processed_csv/df_operators_participation.csv', index=False)\n",
    "    print(df_of.head())\n",
    "    df_of.to_csv('data/processed_csv/df_of.csv', index=False)\n",
    "    print(df_bombs.head())\n",
    "    df_bombs.to_csv('data/processed_csv/df_bombs.csv', index=False)\n",
    "    print(df_operators.head())\n",
    "    df_operators.to_csv('data/processed_csv/df_operators.csv', index=False)\n"
   ]
  }
 ],
 "metadata": {
  "kernelspec": {
   "display_name": "fluidra_poetry_kernel",
   "language": "python",
   "name": "fluidra_poetry_kernel"
  },
  "language_info": {
   "codemirror_mode": {
    "name": "ipython",
    "version": 3
   },
   "file_extension": ".py",
   "mimetype": "text/x-python",
   "name": "python",
   "nbconvert_exporter": "python",
   "pygments_lexer": "ipython3",
   "version": "3.9.9"
  },
  "orig_nbformat": 4,
  "vscode": {
   "interpreter": {
    "hash": "aee8b7b246df8f9039afb4144a1f6fd8d2ca17a180786b69acc140d282b71a49"
   }
  }
 },
 "nbformat": 4,
 "nbformat_minor": 2
}
